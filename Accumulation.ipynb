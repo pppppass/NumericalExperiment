{
 "cells": [
  {
   "cell_type": "code",
   "execution_count": null,
   "metadata": {},
   "outputs": [],
   "source": [
    "import font"
   ]
  },
  {
   "cell_type": "code",
   "execution_count": null,
   "metadata": {},
   "outputs": [],
   "source": [
    "font.font_use_pgf()"
   ]
  },
  {
   "cell_type": "code",
   "execution_count": null,
   "metadata": {},
   "outputs": [],
   "source": [
    "from accumulation import *"
   ]
  },
  {
   "cell_type": "code",
   "execution_count": null,
   "metadata": {},
   "outputs": [],
   "source": [
    "# Record the starting time for further filtering\n",
    "start = time.time()"
   ]
  },
  {
   "cell_type": "code",
   "execution_count": null,
   "metadata": {},
   "outputs": [],
   "source": [
    "ls = numexp.LogSeries(\"Accumulation\", save=True, logs=\"redirect\")\n",
    "ls.new()\n",
    "\n",
    "fs = numexp.FigureSeries(save=True, logs=ls, generator=\".pdf\")\n",
    "\n",
    "rs = numexp.ResultSeries(logs=ls, generator=\"Database\")\n",
    "rs.bind()\n",
    "\n",
    "ts = numexp.TableSeries(save=True, logs=ls)"
   ]
  },
  {
   "cell_type": "code",
   "execution_count": null,
   "metadata": {},
   "outputs": [],
   "source": [
    "# Create a problem object\n",
    "p = accumulation_random()\n",
    "\n",
    "# Create a method object directly from initialization function\n",
    "m = MNumpyAccumulate()\n",
    "\n",
    "# Set the optimal solution, and here the statistical information of `numpy.sum`\n",
    "# is recorded for further comparison\n",
    "e = ESet()\n",
    "e.evaluate(p, m)"
   ]
  },
  {
   "cell_type": "code",
   "execution_count": null,
   "metadata": {},
   "outputs": [],
   "source": [
    "# Set up a testing evaluator\n",
    "e = ETest(export=rs.write, logs=ls)"
   ]
  },
  {
   "cell_type": "code",
   "execution_count": null,
   "metadata": {},
   "outputs": [],
   "source": [
    "m = MForAccumulate()\n",
    "e.evaluate(p, m)\n",
    "\n",
    "m = MSumAccumulate()\n",
    "e.evaluate(p, m)\n",
    "\n",
    "m = MNumpyAccumulate()\n",
    "e.evaluate(p, m)"
   ]
  },
  {
   "cell_type": "code",
   "execution_count": null,
   "metadata": {},
   "outputs": [],
   "source": [
    "ts.new(5, 4)\n",
    "\n",
    "first_row = [\"\\\\texttt{for}\", \"\\\\texttt{sum}\", \"\\\\texttt{numpy.sum}\"]\n",
    "for i in range(3):\n",
    "    ts.update(0, i + 1, first_row[i])\n",
    "\n",
    "first_col = [\"Size\", \"Sum\", \"Time\", \"Relative time\"]\n",
    "for i in range(4):\n",
    "    ts.update(i + 1, 0, first_col[i])\n",
    "\n",
    "col_tag = [\"for\", \"sum\", \"numpy\"]\n",
    "row_key = [\"size\", \"sigma\", \"total\", \"ratio\"]\n",
    "row_fmt = [\"{:.1e}\", \"{:.5e}\", \"{:.5f}\", \"{:.3f}\"]\n",
    "\n",
    "for i in range(3):\n",
    "    for j in range(4):\n",
    "        ts.update(j + 1, i + 1, rs.apply(\n",
    "            lambda s: [\n",
    "                e for e in s\n",
    "                if col_tag[i] in e[\"tags\"]\n",
    "                if e[\"end\"] > start\n",
    "            ][0][row_key[j]],\n",
    "            lambda s: row_fmt[j].format(s)\n",
    "        ))\n",
    "\n",
    "ts.emit()\n",
    "\n",
    "fs.figure()\n",
    "fs.subplot(1, 1, 1)\n",
    "fs.ax.bar(numpy.arange(3),\n",
    "    [rs.apply(\n",
    "        lambda s: [\n",
    "            e for e in s\n",
    "            if col_tag[i] in e[\"tags\"]\n",
    "            if e[\"end\"] > start\n",
    "        ][0][\"total\"],\n",
    "    ) for i in range(3)],\n",
    "0.2)\n",
    "fs.ax.set_xticks(numpy.arange(3))\n",
    "fs.ax.set_xticklabels(first_row)\n",
    "fs.emit()\n",
    "fs.close()\n",
    "\n",
    "ts.clean()"
   ]
  },
  {
   "cell_type": "code",
   "execution_count": null,
   "metadata": {},
   "outputs": [],
   "source": [
    "rs.unbind()\n",
    "\n",
    "ls.close()"
   ]
  },
  {
   "cell_type": "code",
   "execution_count": null,
   "metadata": {},
   "outputs": [],
   "source": []
  }
 ],
 "metadata": {
  "kernelspec": {
   "display_name": "Python 3",
   "language": "python",
   "name": "python3"
  },
  "language_info": {
   "codemirror_mode": {
    "name": "ipython",
    "version": 3
   },
   "file_extension": ".py",
   "mimetype": "text/x-python",
   "name": "python",
   "nbconvert_exporter": "python",
   "pygments_lexer": "ipython3",
   "version": "3.6.4"
  },
  "varInspector": {
   "cols": {
    "lenName": 16,
    "lenType": 16,
    "lenVar": 40
   },
   "kernels_config": {
    "python": {
     "delete_cmd_postfix": "",
     "delete_cmd_prefix": "del ",
     "library": "var_list.py",
     "varRefreshCmd": "print(var_dic_list())"
    },
    "r": {
     "delete_cmd_postfix": ") ",
     "delete_cmd_prefix": "rm(",
     "library": "var_list.r",
     "varRefreshCmd": "cat(var_dic_list()) "
    }
   },
   "types_to_exclude": [
    "module",
    "function",
    "builtin_function_or_method",
    "instance",
    "_Feature"
   ],
   "window_display": false
  }
 },
 "nbformat": 4,
 "nbformat_minor": 2
}
