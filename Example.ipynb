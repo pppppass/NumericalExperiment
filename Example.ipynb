{
 "cells": [
  {
   "cell_type": "markdown",
   "metadata": {},
   "source": [
    "# Font module"
   ]
  },
  {
   "cell_type": "code",
   "execution_count": null,
   "metadata": {},
   "outputs": [],
   "source": [
    "import font"
   ]
  },
  {
   "cell_type": "code",
   "execution_count": null,
   "metadata": {},
   "outputs": [],
   "source": [
    "font.font_use_inline()"
   ]
  },
  {
   "cell_type": "code",
   "execution_count": null,
   "metadata": {},
   "outputs": [],
   "source": [
    "from matplotlib import pyplot"
   ]
  },
  {
   "cell_type": "code",
   "execution_count": null,
   "metadata": {},
   "outputs": [],
   "source": [
    "pyplot.plot([1., 2.], [3., 4.])\n",
    "pyplot.show()"
   ]
  },
  {
   "cell_type": "markdown",
   "metadata": {},
   "source": [
    "# Numerical experiment module"
   ]
  },
  {
   "cell_type": "code",
   "execution_count": null,
   "metadata": {},
   "outputs": [],
   "source": [
    "import numexp\n",
    "\n",
    "import numpy"
   ]
  },
  {
   "cell_type": "markdown",
   "metadata": {},
   "source": [
    "## Utilities --- `utils.py`"
   ]
  },
  {
   "cell_type": "code",
   "execution_count": null,
   "metadata": {},
   "outputs": [],
   "source": [
    "r = numexp.tictoc(\n",
    "    lambda: sum([i**2 for i in range(1000000) if i % 3 != 0])\n",
    ")\n",
    "print(r)"
   ]
  },
  {
   "cell_type": "code",
   "execution_count": null,
   "metadata": {},
   "outputs": [],
   "source": [
    "print(list(numexp.default_filename_generator(prefix=\"Test\", extension=\".tst\", limit=5)))"
   ]
  },
  {
   "cell_type": "markdown",
   "metadata": {},
   "source": [
    "## Class for log series --- `log_series.py`"
   ]
  },
  {
   "cell_type": "code",
   "execution_count": null,
   "metadata": {},
   "outputs": [],
   "source": [
    "ls = numexp.LogSeries(\"Example\", save=True, logs=\"redirect\")\n",
    "\n",
    "ls.new()\n",
    "\n",
    "ls(\"Hello, world!\")\n",
    "ls(\"This is another information\")\n",
    "ls(\"This is\\na\\nLOOOOOOOOOOOOOOONG\\ninformation.\\n\")\n",
    "\n",
    "ls.close()"
   ]
  },
  {
   "cell_type": "markdown",
   "metadata": {},
   "source": [
    "## Class for figure series --- `figure_series.py`"
   ]
  },
  {
   "cell_type": "code",
   "execution_count": null,
   "metadata": {},
   "outputs": [],
   "source": [
    "fs = numexp.FigureSeries(save=True)\n",
    "\n",
    "fs.fast_create()\n",
    "fs.plot(numpy.linspace(0., 20., 100), numpy.sin(numpy.linspace(0., 20., 100)))\n",
    "fs.emit()\n",
    "fs.close()\n",
    "\n",
    "fs.fast_create()\n",
    "fs.plot(numpy.linspace(0., 20., 100), numpy.tan(numpy.sin(numpy.linspace(0., 20., 100))))\n",
    "fs.emit()\n",
    "fs.close()"
   ]
  },
  {
   "cell_type": "markdown",
   "metadata": {},
   "source": [
    "## Class for result series --- `result_series.py`"
   ]
  },
  {
   "cell_type": "code",
   "execution_count": null,
   "metadata": {},
   "outputs": [],
   "source": [
    "rs = numexp.ResultSeries(generator=\"Database\")\n",
    "\n",
    "rs.bind()\n",
    "rs.reset()\n",
    "rs.write(\"Item 1\")\n",
    "rs.write(\"Item 2\")\n",
    "rs.write(\"Item 3\")\n",
    "\n",
    "print(list(rs.sequence()))\n",
    "\n",
    "rs.unbind()"
   ]
  },
  {
   "cell_type": "markdown",
   "metadata": {},
   "source": [
    "## Class for table series --- `table_series.py`"
   ]
  },
  {
   "cell_type": "code",
   "execution_count": null,
   "metadata": {},
   "outputs": [],
   "source": [
    "rs = numexp.ResultSeries(generator=\"Database\")\n",
    "rs.bind()\n",
    "\n",
    "ts = numexp.TableSeries(save=True)\n",
    "\n",
    "ts.new(2, 3)\n",
    "for i in range(3):\n",
    "    ts.update(0, i, rs.apply(\n",
    "        lambda s: s[i]\n",
    "    ))\n",
    "for i in range(3):\n",
    "    ts.update(1, i, rs.apply(\n",
    "        lambda s: \" \".join(s)\n",
    "    ))\n",
    "ts.emit()\n",
    "\n",
    "rs.unbind()"
   ]
  },
  {
   "cell_type": "markdown",
   "metadata": {},
   "source": [
    "## Problem class --- `problem.py`"
   ]
  },
  {
   "cell_type": "code",
   "execution_count": null,
   "metadata": {},
   "outputs": [],
   "source": [
    "try:\n",
    "    p = numexp.Problem()\n",
    "except Exception as ex:\n",
    "    print(type(ex))\n",
    "    print(ex)"
   ]
  },
  {
   "cell_type": "markdown",
   "metadata": {},
   "source": [
    "## Method class --- `method.py`"
   ]
  },
  {
   "cell_type": "code",
   "execution_count": null,
   "metadata": {},
   "outputs": [],
   "source": [
    "try:\n",
    "    m = numexp.Method()\n",
    "except Exception as ex:\n",
    "    print(type(ex))\n",
    "    print(ex)"
   ]
  },
  {
   "cell_type": "markdown",
   "metadata": {},
   "source": [
    "## Evaluator class --- `evaluator.py`"
   ]
  },
  {
   "cell_type": "code",
   "execution_count": null,
   "metadata": {},
   "outputs": [],
   "source": [
    "try:\n",
    "    e = numexp.Evaluator()\n",
    "except Exception as ex:\n",
    "    print(type(ex))\n",
    "    print(ex)"
   ]
  },
  {
   "cell_type": "code",
   "execution_count": null,
   "metadata": {},
   "outputs": [],
   "source": []
  }
 ],
 "metadata": {
  "kernelspec": {
   "display_name": "Python 3",
   "language": "python",
   "name": "python3"
  },
  "language_info": {
   "codemirror_mode": {
    "name": "ipython",
    "version": 3
   },
   "file_extension": ".py",
   "mimetype": "text/x-python",
   "name": "python",
   "nbconvert_exporter": "python",
   "pygments_lexer": "ipython3",
   "version": "3.6.4"
  },
  "varInspector": {
   "cols": {
    "lenName": 16,
    "lenType": 16,
    "lenVar": 40
   },
   "kernels_config": {
    "python": {
     "delete_cmd_postfix": "",
     "delete_cmd_prefix": "del ",
     "library": "var_list.py",
     "varRefreshCmd": "print(var_dic_list())"
    },
    "r": {
     "delete_cmd_postfix": ") ",
     "delete_cmd_prefix": "rm(",
     "library": "var_list.r",
     "varRefreshCmd": "cat(var_dic_list()) "
    }
   },
   "types_to_exclude": [
    "module",
    "function",
    "builtin_function_or_method",
    "instance",
    "_Feature"
   ],
   "window_display": false
  }
 },
 "nbformat": 4,
 "nbformat_minor": 2
}
